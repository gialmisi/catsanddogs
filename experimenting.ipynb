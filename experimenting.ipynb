{
 "cells": [
  {
   "cell_type": "code",
   "execution_count": 1,
   "id": "88536794-69d8-43ee-8e63-a13e7d2ca2a4",
   "metadata": {},
   "outputs": [],
   "source": [
    "import numpy as np\n",
    "import pandas as pd\n",
    "import matplotlib.pyplot as plt\n",
    "from parse import read_excel\n",
    "from desdeo_tools.utilities import fast_non_dominated_sort_indices\n",
    "import plotly.express as px"
   ]
  },
  {
   "cell_type": "code",
   "execution_count": 2,
   "id": "0322ec6e-da2f-48b0-897e-bd74d5520ac3",
   "metadata": {},
   "outputs": [],
   "source": [
    "df = read_excel()"
   ]
  },
  {
   "cell_type": "code",
   "execution_count": 3,
   "id": "dac3e5aa-275a-48b2-ab77-5a0c80134c88",
   "metadata": {},
   "outputs": [],
   "source": [
    "objectives = [\"fearfulness\", \"human_aggression\", \"activity_playfulness\", \"cat_sociability\", \"human_sociability\", \"litterbox_issues\", \"excessive_grooming\"]\n",
    "directions = [1, 1, -1, -1, -1, 1, 1]\n",
    "\n",
    "data = df[objectives].to_numpy() * directions\n",
    "\n",
    "nadir, ideal = np.max(data, axis=0), np.min(data, axis=0)"
   ]
  },
  {
   "cell_type": "code",
   "execution_count": 4,
   "id": "339ca203-b931-48b1-ad3c-aad744a0ae95",
   "metadata": {},
   "outputs": [],
   "source": [
    "fronts = fast_non_dominated_sort_indices(data)\n",
    "pf_front = data[fronts[0]]\n",
    "pf_data = df.loc[fronts[0]]"
   ]
  },
  {
   "cell_type": "code",
   "execution_count": 15,
   "id": "bcb1ddf2-e7a1-4743-9b81-7dad2ef59930",
   "metadata": {},
   "outputs": [
    {
     "data": {
      "text/plain": [
       "{'Siberian_and_Neva_Masquerade': 52,\n",
       " 'Sphynx_and_Devon_Rex': 41,\n",
       " 'European': 55,\n",
       " 'Siamese_and_Balinese': 40,\n",
       " 'Burmese': 28,\n",
       " 'British': 28,\n",
       " 'Oriental': 61,\n",
       " 'Korat': 21,\n",
       " 'House_cat': 211,\n",
       " 'Sacred_Birman': 26,\n",
       " 'Somali': 29,\n",
       " 'Landrace_Cat_Shorthair': 263,\n",
       " 'Maine_Coon': 48,\n",
       " 'Other': 30,\n",
       " 'Abyssinian': 44,\n",
       " 'Turkish_Angora': 28,\n",
       " 'Bengal': 40,\n",
       " 'American_Curl': 42,\n",
       " 'Landrace_Cat_Longhair': 50,\n",
       " 'Norwegian_Forest_Cat': 29,\n",
       " 'Ocicat': 45,\n",
       " 'Russian_Blue': 12,\n",
       " 'Turkish_Van': 10,\n",
       " 'Ragdoll': 37,\n",
       " 'Cornish_Rex': 25,\n",
       " 'Persian_and_Exotic': 15}"
      ]
     },
     "execution_count": 15,
     "metadata": {},
     "output_type": "execute_result"
    }
   ],
   "source": [
    "from collections import Counter\n",
    "\n",
    "cats = dict(Counter(pf_data[\"BREEDGROUP\"]))\n",
    "\n",
    "cats"
   ]
  },
  {
   "cell_type": "code",
   "execution_count": null,
   "id": "f76c272f-5fb9-4468-92d7-8e508829a6c6",
   "metadata": {},
   "outputs": [],
   "source": []
  }
 ],
 "metadata": {
  "kernelspec": {
   "display_name": "catsanddogs",
   "language": "python",
   "name": "catsanddogs"
  },
  "language_info": {
   "codemirror_mode": {
    "name": "ipython",
    "version": 3
   },
   "file_extension": ".py",
   "mimetype": "text/x-python",
   "name": "python",
   "nbconvert_exporter": "python",
   "pygments_lexer": "ipython3",
   "version": "3.8.11"
  }
 },
 "nbformat": 4,
 "nbformat_minor": 5
}
